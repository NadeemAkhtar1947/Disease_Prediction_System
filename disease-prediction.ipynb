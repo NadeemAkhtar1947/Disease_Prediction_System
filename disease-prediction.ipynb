{
 "cells": [
  {
   "cell_type": "code",
   "execution_count": 1,
   "id": "389eed48",
   "metadata": {
    "execution": {
     "iopub.execute_input": "2023-09-08T20:19:33.216088Z",
     "iopub.status.busy": "2023-09-08T20:19:33.215672Z",
     "iopub.status.idle": "2023-09-08T20:19:34.817413Z",
     "shell.execute_reply": "2023-09-08T20:19:34.816329Z"
    },
    "papermill": {
     "duration": 1.621207,
     "end_time": "2023-09-08T20:19:34.820517",
     "exception": false,
     "start_time": "2023-09-08T20:19:33.199310",
     "status": "completed"
    },
    "tags": []
   },
   "outputs": [],
   "source": [
    "import pandas as pd \n",
    "import numpy as np\n",
    "import matplotlib.pyplot as plt\n",
    "import warnings\n",
    "warnings.filterwarnings('ignore')\n",
    "from sklearn.preprocessing import StandardScaler\n",
    "from sklearn.model_selection import train_test_split\n",
    "from sklearn.metrics import classification_report,confusion_matrix,accuracy_score\n",
    "from sklearn.metrics import precision_score, recall_score, f1_score"
   ]
  },
  {
   "cell_type": "code",
   "execution_count": 2,
   "id": "334d2c92",
   "metadata": {
    "execution": {
     "iopub.execute_input": "2023-09-08T20:19:34.850529Z",
     "iopub.status.busy": "2023-09-08T20:19:34.849961Z",
     "iopub.status.idle": "2023-09-08T20:19:34.911721Z",
     "shell.execute_reply": "2023-09-08T20:19:34.910526Z"
    },
    "papermill": {
     "duration": 0.080166,
     "end_time": "2023-09-08T20:19:34.914862",
     "exception": false,
     "start_time": "2023-09-08T20:19:34.834696",
     "status": "completed"
    },
    "tags": []
   },
   "outputs": [],
   "source": [
    "df = pd.read_csv('/kaggle/input/disease-symptom-description-dataset/dataset.csv')\n",
    "data_severity = pd.read_csv('/kaggle/input/disease-symptom-description-dataset/Symptom-severity.csv')"
   ]
  },
  {
   "cell_type": "code",
   "execution_count": 3,
   "id": "6ef61ecb",
   "metadata": {
    "execution": {
     "iopub.execute_input": "2023-09-08T20:19:34.944496Z",
     "iopub.status.busy": "2023-09-08T20:19:34.944113Z",
     "iopub.status.idle": "2023-09-08T20:19:34.971848Z",
     "shell.execute_reply": "2023-09-08T20:19:34.971067Z"
    },
    "papermill": {
     "duration": 0.045214,
     "end_time": "2023-09-08T20:19:34.974413",
     "exception": false,
     "start_time": "2023-09-08T20:19:34.929199",
     "status": "completed"
    },
    "tags": []
   },
   "outputs": [
    {
     "data": {
      "text/html": [
       "<div>\n",
       "<style scoped>\n",
       "    .dataframe tbody tr th:only-of-type {\n",
       "        vertical-align: middle;\n",
       "    }\n",
       "\n",
       "    .dataframe tbody tr th {\n",
       "        vertical-align: top;\n",
       "    }\n",
       "\n",
       "    .dataframe thead th {\n",
       "        text-align: right;\n",
       "    }\n",
       "</style>\n",
       "<table border=\"1\" class=\"dataframe\">\n",
       "  <thead>\n",
       "    <tr style=\"text-align: right;\">\n",
       "      <th></th>\n",
       "      <th>Disease</th>\n",
       "      <th>Symptom_1</th>\n",
       "      <th>Symptom_2</th>\n",
       "      <th>Symptom_3</th>\n",
       "      <th>Symptom_4</th>\n",
       "      <th>Symptom_5</th>\n",
       "      <th>Symptom_6</th>\n",
       "      <th>Symptom_7</th>\n",
       "      <th>Symptom_8</th>\n",
       "      <th>Symptom_9</th>\n",
       "      <th>Symptom_10</th>\n",
       "      <th>Symptom_11</th>\n",
       "      <th>Symptom_12</th>\n",
       "      <th>Symptom_13</th>\n",
       "      <th>Symptom_14</th>\n",
       "      <th>Symptom_15</th>\n",
       "      <th>Symptom_16</th>\n",
       "      <th>Symptom_17</th>\n",
       "    </tr>\n",
       "  </thead>\n",
       "  <tbody>\n",
       "    <tr>\n",
       "      <th>0</th>\n",
       "      <td>Fungal infection</td>\n",
       "      <td>itching</td>\n",
       "      <td>skin_rash</td>\n",
       "      <td>nodal_skin_eruptions</td>\n",
       "      <td>dischromic _patches</td>\n",
       "      <td>NaN</td>\n",
       "      <td>NaN</td>\n",
       "      <td>NaN</td>\n",
       "      <td>NaN</td>\n",
       "      <td>NaN</td>\n",
       "      <td>NaN</td>\n",
       "      <td>NaN</td>\n",
       "      <td>NaN</td>\n",
       "      <td>NaN</td>\n",
       "      <td>NaN</td>\n",
       "      <td>NaN</td>\n",
       "      <td>NaN</td>\n",
       "      <td>NaN</td>\n",
       "    </tr>\n",
       "    <tr>\n",
       "      <th>1</th>\n",
       "      <td>Fungal infection</td>\n",
       "      <td>skin_rash</td>\n",
       "      <td>nodal_skin_eruptions</td>\n",
       "      <td>dischromic _patches</td>\n",
       "      <td>NaN</td>\n",
       "      <td>NaN</td>\n",
       "      <td>NaN</td>\n",
       "      <td>NaN</td>\n",
       "      <td>NaN</td>\n",
       "      <td>NaN</td>\n",
       "      <td>NaN</td>\n",
       "      <td>NaN</td>\n",
       "      <td>NaN</td>\n",
       "      <td>NaN</td>\n",
       "      <td>NaN</td>\n",
       "      <td>NaN</td>\n",
       "      <td>NaN</td>\n",
       "      <td>NaN</td>\n",
       "    </tr>\n",
       "  </tbody>\n",
       "</table>\n",
       "</div>"
      ],
      "text/plain": [
       "            Disease   Symptom_1              Symptom_2              Symptom_3  \\\n",
       "0  Fungal infection     itching              skin_rash   nodal_skin_eruptions   \n",
       "1  Fungal infection   skin_rash   nodal_skin_eruptions    dischromic _patches   \n",
       "\n",
       "              Symptom_4 Symptom_5 Symptom_6 Symptom_7 Symptom_8 Symptom_9  \\\n",
       "0   dischromic _patches       NaN       NaN       NaN       NaN       NaN   \n",
       "1                   NaN       NaN       NaN       NaN       NaN       NaN   \n",
       "\n",
       "  Symptom_10 Symptom_11 Symptom_12 Symptom_13 Symptom_14 Symptom_15  \\\n",
       "0        NaN        NaN        NaN        NaN        NaN        NaN   \n",
       "1        NaN        NaN        NaN        NaN        NaN        NaN   \n",
       "\n",
       "  Symptom_16 Symptom_17  \n",
       "0        NaN        NaN  \n",
       "1        NaN        NaN  "
      ]
     },
     "execution_count": 3,
     "metadata": {},
     "output_type": "execute_result"
    }
   ],
   "source": [
    "df.head(2)"
   ]
  },
  {
   "cell_type": "code",
   "execution_count": 4,
   "id": "cada969f",
   "metadata": {
    "execution": {
     "iopub.execute_input": "2023-09-08T20:19:35.005424Z",
     "iopub.status.busy": "2023-09-08T20:19:35.004515Z",
     "iopub.status.idle": "2023-09-08T20:19:35.014369Z",
     "shell.execute_reply": "2023-09-08T20:19:35.013309Z"
    },
    "papermill": {
     "duration": 0.027689,
     "end_time": "2023-09-08T20:19:35.016524",
     "exception": false,
     "start_time": "2023-09-08T20:19:34.988835",
     "status": "completed"
    },
    "tags": []
   },
   "outputs": [
    {
     "data": {
      "text/html": [
       "<div>\n",
       "<style scoped>\n",
       "    .dataframe tbody tr th:only-of-type {\n",
       "        vertical-align: middle;\n",
       "    }\n",
       "\n",
       "    .dataframe tbody tr th {\n",
       "        vertical-align: top;\n",
       "    }\n",
       "\n",
       "    .dataframe thead th {\n",
       "        text-align: right;\n",
       "    }\n",
       "</style>\n",
       "<table border=\"1\" class=\"dataframe\">\n",
       "  <thead>\n",
       "    <tr style=\"text-align: right;\">\n",
       "      <th></th>\n",
       "      <th>Symptom</th>\n",
       "      <th>weight</th>\n",
       "    </tr>\n",
       "  </thead>\n",
       "  <tbody>\n",
       "    <tr>\n",
       "      <th>0</th>\n",
       "      <td>itching</td>\n",
       "      <td>1</td>\n",
       "    </tr>\n",
       "    <tr>\n",
       "      <th>1</th>\n",
       "      <td>skin_rash</td>\n",
       "      <td>3</td>\n",
       "    </tr>\n",
       "    <tr>\n",
       "      <th>2</th>\n",
       "      <td>nodal_skin_eruptions</td>\n",
       "      <td>4</td>\n",
       "    </tr>\n",
       "    <tr>\n",
       "      <th>3</th>\n",
       "      <td>continuous_sneezing</td>\n",
       "      <td>4</td>\n",
       "    </tr>\n",
       "    <tr>\n",
       "      <th>4</th>\n",
       "      <td>shivering</td>\n",
       "      <td>5</td>\n",
       "    </tr>\n",
       "  </tbody>\n",
       "</table>\n",
       "</div>"
      ],
      "text/plain": [
       "                Symptom  weight\n",
       "0               itching       1\n",
       "1             skin_rash       3\n",
       "2  nodal_skin_eruptions       4\n",
       "3   continuous_sneezing       4\n",
       "4             shivering       5"
      ]
     },
     "execution_count": 4,
     "metadata": {},
     "output_type": "execute_result"
    }
   ],
   "source": [
    "data_severity.head()"
   ]
  },
  {
   "cell_type": "code",
   "execution_count": 5,
   "id": "a92a405e",
   "metadata": {
    "execution": {
     "iopub.execute_input": "2023-09-08T20:19:35.048394Z",
     "iopub.status.busy": "2023-09-08T20:19:35.047916Z",
     "iopub.status.idle": "2023-09-08T20:19:35.060075Z",
     "shell.execute_reply": "2023-09-08T20:19:35.058571Z"
    },
    "papermill": {
     "duration": 0.031832,
     "end_time": "2023-09-08T20:19:35.063337",
     "exception": false,
     "start_time": "2023-09-08T20:19:35.031505",
     "status": "completed"
    },
    "tags": []
   },
   "outputs": [
    {
     "name": "stdout",
     "output_type": "stream",
     "text": [
      "itching 1\n",
      "skin_rash 3\n",
      "nodal_skin_eruptions 4\n",
      "continuous_sneezing 4\n",
      "shivering 5\n",
      "chills 3\n",
      "joint_pain 3\n",
      "stomach_pain 5\n",
      "acidity 3\n",
      "ulcers_on_tongue 4\n",
      "muscle_wasting 3\n",
      "vomiting 5\n",
      "burning_micturition 6\n",
      "spotting_urination 6\n",
      "fatigue 4\n",
      "weight_gain 3\n",
      "anxiety 4\n",
      "cold_hands_and_feets 5\n",
      "mood_swings 3\n",
      "weight_loss 3\n",
      "restlessness 5\n",
      "lethargy 2\n",
      "patches_in_throat 6\n",
      "irregular_sugar_level 5\n",
      "cough 4\n",
      "high_fever 7\n",
      "sunken_eyes 3\n",
      "breathlessness 4\n",
      "sweating 3\n",
      "dehydration 4\n",
      "indigestion 5\n",
      "headache 3\n",
      "yellowish_skin 3\n",
      "dark_urine 4\n",
      "nausea 5\n",
      "loss_of_appetite 4\n",
      "pain_behind_the_eyes 4\n",
      "back_pain 3\n",
      "constipation 4\n",
      "abdominal_pain 4\n",
      "diarrhoea 6\n",
      "mild_fever 5\n",
      "yellow_urine 4\n",
      "yellowing_of_eyes 4\n",
      "acute_liver_failure 6\n",
      "fluid_overload 6\n",
      "swelling_of_stomach 7\n",
      "swelled_lymph_nodes 6\n",
      "malaise 6\n",
      "blurred_and_distorted_vision 5\n",
      "phlegm 5\n",
      "throat_irritation 4\n",
      "redness_of_eyes 5\n",
      "sinus_pressure 4\n",
      "runny_nose 5\n",
      "congestion 5\n",
      "chest_pain 7\n",
      "weakness_in_limbs 7\n",
      "fast_heart_rate 5\n",
      "pain_during_bowel_movements 5\n",
      "pain_in_anal_region 6\n",
      "bloody_stool 5\n",
      "irritation_in_anus 6\n",
      "neck_pain 5\n",
      "dizziness 4\n",
      "cramps 4\n",
      "bruising 4\n",
      "obesity 4\n",
      "swollen_legs 5\n",
      "swollen_blood_vessels 5\n",
      "puffy_face_and_eyes 5\n",
      "enlarged_thyroid 6\n",
      "brittle_nails 5\n",
      "swollen_extremeties 5\n",
      "excessive_hunger 4\n",
      "extra_marital_contacts 5\n",
      "drying_and_tingling_lips 4\n",
      "slurred_speech 4\n",
      "knee_pain 3\n",
      "hip_joint_pain 2\n",
      "muscle_weakness 2\n",
      "stiff_neck 4\n",
      "swelling_joints 5\n",
      "movement_stiffness 5\n",
      "spinning_movements 6\n",
      "loss_of_balance 4\n",
      "unsteadiness 4\n",
      "weakness_of_one_body_side 4\n",
      "loss_of_smell 3\n",
      "bladder_discomfort 4\n",
      "foul_smell_ofurine 5\n",
      "continuous_feel_of_urine 6\n",
      "passage_of_gases 5\n",
      "internal_itching 4\n",
      "toxic_look_(typhos) 5\n",
      "depression 3\n",
      "irritability 2\n",
      "muscle_pain 2\n",
      "altered_sensorium 2\n",
      "red_spots_over_body 3\n",
      "belly_pain 4\n",
      "abnormal_menstruation 6\n",
      "dischromic_patches 6\n",
      "watering_from_eyes 4\n",
      "increased_appetite 5\n",
      "polyuria 4\n",
      "family_history 5\n",
      "mucoid_sputum 4\n",
      "rusty_sputum 4\n",
      "lack_of_concentration 3\n",
      "visual_disturbances 3\n",
      "receiving_blood_transfusion 5\n",
      "receiving_unsterile_injections 2\n",
      "coma 7\n",
      "stomach_bleeding 6\n",
      "distention_of_abdomen 4\n",
      "history_of_alcohol_consumption 5\n",
      "fluid_overload 4\n",
      "blood_in_sputum 5\n",
      "prominent_veins_on_calf 6\n",
      "palpitations 4\n",
      "painful_walking 2\n",
      "pus_filled_pimples 2\n",
      "blackheads 2\n",
      "scurring 2\n",
      "skin_peeling 3\n",
      "silver_like_dusting 2\n",
      "small_dents_in_nails 2\n",
      "inflammatory_nails 2\n",
      "blister 4\n",
      "red_sore_around_nose 2\n",
      "yellow_crust_ooze 3\n",
      "prognosis 5\n"
     ]
    }
   ],
   "source": [
    "for i in data_severity.index:\n",
    "    print(data_severity['Symptom'][i], data_severity['weight'][i])"
   ]
  },
  {
   "cell_type": "code",
   "execution_count": 6,
   "id": "c6486ec7",
   "metadata": {
    "execution": {
     "iopub.execute_input": "2023-09-08T20:19:35.094722Z",
     "iopub.status.busy": "2023-09-08T20:19:35.094358Z",
     "iopub.status.idle": "2023-09-08T20:19:35.113280Z",
     "shell.execute_reply": "2023-09-08T20:19:35.112072Z"
    },
    "papermill": {
     "duration": 0.037444,
     "end_time": "2023-09-08T20:19:35.115791",
     "exception": false,
     "start_time": "2023-09-08T20:19:35.078347",
     "status": "completed"
    },
    "tags": []
   },
   "outputs": [],
   "source": [
    "#convert data_severity to dictionnary\n",
    "data_dict = data_severity.set_index('Symptom').T.to_dict()"
   ]
  },
  {
   "cell_type": "code",
   "execution_count": 7,
   "id": "0163ebb6",
   "metadata": {
    "execution": {
     "iopub.execute_input": "2023-09-08T20:19:35.146659Z",
     "iopub.status.busy": "2023-09-08T20:19:35.146284Z",
     "iopub.status.idle": "2023-09-08T20:19:35.162266Z",
     "shell.execute_reply": "2023-09-08T20:19:35.161280Z"
    },
    "papermill": {
     "duration": 0.034023,
     "end_time": "2023-09-08T20:19:35.164549",
     "exception": false,
     "start_time": "2023-09-08T20:19:35.130526",
     "status": "completed"
    },
    "tags": []
   },
   "outputs": [
    {
     "data": {
      "text/plain": [
       "{'itching': {'weight': 1},\n",
       " 'skin_rash': {'weight': 3},\n",
       " 'nodal_skin_eruptions': {'weight': 4},\n",
       " 'continuous_sneezing': {'weight': 4},\n",
       " 'shivering': {'weight': 5},\n",
       " 'chills': {'weight': 3},\n",
       " 'joint_pain': {'weight': 3},\n",
       " 'stomach_pain': {'weight': 5},\n",
       " 'acidity': {'weight': 3},\n",
       " 'ulcers_on_tongue': {'weight': 4},\n",
       " 'muscle_wasting': {'weight': 3},\n",
       " 'vomiting': {'weight': 5},\n",
       " 'burning_micturition': {'weight': 6},\n",
       " 'spotting_urination': {'weight': 6},\n",
       " 'fatigue': {'weight': 4},\n",
       " 'weight_gain': {'weight': 3},\n",
       " 'anxiety': {'weight': 4},\n",
       " 'cold_hands_and_feets': {'weight': 5},\n",
       " 'mood_swings': {'weight': 3},\n",
       " 'weight_loss': {'weight': 3},\n",
       " 'restlessness': {'weight': 5},\n",
       " 'lethargy': {'weight': 2},\n",
       " 'patches_in_throat': {'weight': 6},\n",
       " 'irregular_sugar_level': {'weight': 5},\n",
       " 'cough': {'weight': 4},\n",
       " 'high_fever': {'weight': 7},\n",
       " 'sunken_eyes': {'weight': 3},\n",
       " 'breathlessness': {'weight': 4},\n",
       " 'sweating': {'weight': 3},\n",
       " 'dehydration': {'weight': 4},\n",
       " 'indigestion': {'weight': 5},\n",
       " 'headache': {'weight': 3},\n",
       " 'yellowish_skin': {'weight': 3},\n",
       " 'dark_urine': {'weight': 4},\n",
       " 'nausea': {'weight': 5},\n",
       " 'loss_of_appetite': {'weight': 4},\n",
       " 'pain_behind_the_eyes': {'weight': 4},\n",
       " 'back_pain': {'weight': 3},\n",
       " 'constipation': {'weight': 4},\n",
       " 'abdominal_pain': {'weight': 4},\n",
       " 'diarrhoea': {'weight': 6},\n",
       " 'mild_fever': {'weight': 5},\n",
       " 'yellow_urine': {'weight': 4},\n",
       " 'yellowing_of_eyes': {'weight': 4},\n",
       " 'acute_liver_failure': {'weight': 6},\n",
       " 'fluid_overload': {'weight': 4},\n",
       " 'swelling_of_stomach': {'weight': 7},\n",
       " 'swelled_lymph_nodes': {'weight': 6},\n",
       " 'malaise': {'weight': 6},\n",
       " 'blurred_and_distorted_vision': {'weight': 5},\n",
       " 'phlegm': {'weight': 5},\n",
       " 'throat_irritation': {'weight': 4},\n",
       " 'redness_of_eyes': {'weight': 5},\n",
       " 'sinus_pressure': {'weight': 4},\n",
       " 'runny_nose': {'weight': 5},\n",
       " 'congestion': {'weight': 5},\n",
       " 'chest_pain': {'weight': 7},\n",
       " 'weakness_in_limbs': {'weight': 7},\n",
       " 'fast_heart_rate': {'weight': 5},\n",
       " 'pain_during_bowel_movements': {'weight': 5},\n",
       " 'pain_in_anal_region': {'weight': 6},\n",
       " 'bloody_stool': {'weight': 5},\n",
       " 'irritation_in_anus': {'weight': 6},\n",
       " 'neck_pain': {'weight': 5},\n",
       " 'dizziness': {'weight': 4},\n",
       " 'cramps': {'weight': 4},\n",
       " 'bruising': {'weight': 4},\n",
       " 'obesity': {'weight': 4},\n",
       " 'swollen_legs': {'weight': 5},\n",
       " 'swollen_blood_vessels': {'weight': 5},\n",
       " 'puffy_face_and_eyes': {'weight': 5},\n",
       " 'enlarged_thyroid': {'weight': 6},\n",
       " 'brittle_nails': {'weight': 5},\n",
       " 'swollen_extremeties': {'weight': 5},\n",
       " 'excessive_hunger': {'weight': 4},\n",
       " 'extra_marital_contacts': {'weight': 5},\n",
       " 'drying_and_tingling_lips': {'weight': 4},\n",
       " 'slurred_speech': {'weight': 4},\n",
       " 'knee_pain': {'weight': 3},\n",
       " 'hip_joint_pain': {'weight': 2},\n",
       " 'muscle_weakness': {'weight': 2},\n",
       " 'stiff_neck': {'weight': 4},\n",
       " 'swelling_joints': {'weight': 5},\n",
       " 'movement_stiffness': {'weight': 5},\n",
       " 'spinning_movements': {'weight': 6},\n",
       " 'loss_of_balance': {'weight': 4},\n",
       " 'unsteadiness': {'weight': 4},\n",
       " 'weakness_of_one_body_side': {'weight': 4},\n",
       " 'loss_of_smell': {'weight': 3},\n",
       " 'bladder_discomfort': {'weight': 4},\n",
       " 'foul_smell_ofurine': {'weight': 5},\n",
       " 'continuous_feel_of_urine': {'weight': 6},\n",
       " 'passage_of_gases': {'weight': 5},\n",
       " 'internal_itching': {'weight': 4},\n",
       " 'toxic_look_(typhos)': {'weight': 5},\n",
       " 'depression': {'weight': 3},\n",
       " 'irritability': {'weight': 2},\n",
       " 'muscle_pain': {'weight': 2},\n",
       " 'altered_sensorium': {'weight': 2},\n",
       " 'red_spots_over_body': {'weight': 3},\n",
       " 'belly_pain': {'weight': 4},\n",
       " 'abnormal_menstruation': {'weight': 6},\n",
       " 'dischromic_patches': {'weight': 6},\n",
       " 'watering_from_eyes': {'weight': 4},\n",
       " 'increased_appetite': {'weight': 5},\n",
       " 'polyuria': {'weight': 4},\n",
       " 'family_history': {'weight': 5},\n",
       " 'mucoid_sputum': {'weight': 4},\n",
       " 'rusty_sputum': {'weight': 4},\n",
       " 'lack_of_concentration': {'weight': 3},\n",
       " 'visual_disturbances': {'weight': 3},\n",
       " 'receiving_blood_transfusion': {'weight': 5},\n",
       " 'receiving_unsterile_injections': {'weight': 2},\n",
       " 'coma': {'weight': 7},\n",
       " 'stomach_bleeding': {'weight': 6},\n",
       " 'distention_of_abdomen': {'weight': 4},\n",
       " 'history_of_alcohol_consumption': {'weight': 5},\n",
       " 'blood_in_sputum': {'weight': 5},\n",
       " 'prominent_veins_on_calf': {'weight': 6},\n",
       " 'palpitations': {'weight': 4},\n",
       " 'painful_walking': {'weight': 2},\n",
       " 'pus_filled_pimples': {'weight': 2},\n",
       " 'blackheads': {'weight': 2},\n",
       " 'scurring': {'weight': 2},\n",
       " 'skin_peeling': {'weight': 3},\n",
       " 'silver_like_dusting': {'weight': 2},\n",
       " 'small_dents_in_nails': {'weight': 2},\n",
       " 'inflammatory_nails': {'weight': 2},\n",
       " 'blister': {'weight': 4},\n",
       " 'red_sore_around_nose': {'weight': 2},\n",
       " 'yellow_crust_ooze': {'weight': 3},\n",
       " 'prognosis': {'weight': 5}}"
      ]
     },
     "execution_count": 7,
     "metadata": {},
     "output_type": "execute_result"
    }
   ],
   "source": [
    "data_dict"
   ]
  },
  {
   "cell_type": "code",
   "execution_count": 8,
   "id": "f1dca3cd",
   "metadata": {
    "execution": {
     "iopub.execute_input": "2023-09-08T20:19:35.197202Z",
     "iopub.status.busy": "2023-09-08T20:19:35.196541Z",
     "iopub.status.idle": "2023-09-08T20:19:35.203268Z",
     "shell.execute_reply": "2023-09-08T20:19:35.202115Z"
    },
    "papermill": {
     "duration": 0.025784,
     "end_time": "2023-09-08T20:19:35.205783",
     "exception": false,
     "start_time": "2023-09-08T20:19:35.179999",
     "status": "completed"
    },
    "tags": []
   },
   "outputs": [
    {
     "data": {
      "text/plain": [
       "(4920, 18)"
      ]
     },
     "execution_count": 8,
     "metadata": {},
     "output_type": "execute_result"
    }
   ],
   "source": [
    "df.shape"
   ]
  },
  {
   "cell_type": "code",
   "execution_count": 9,
   "id": "b5525362",
   "metadata": {
    "execution": {
     "iopub.execute_input": "2023-09-08T20:19:35.239012Z",
     "iopub.status.busy": "2023-09-08T20:19:35.238323Z",
     "iopub.status.idle": "2023-09-08T20:19:35.265803Z",
     "shell.execute_reply": "2023-09-08T20:19:35.264930Z"
    },
    "papermill": {
     "duration": 0.047024,
     "end_time": "2023-09-08T20:19:35.268345",
     "exception": false,
     "start_time": "2023-09-08T20:19:35.221321",
     "status": "completed"
    },
    "tags": []
   },
   "outputs": [
    {
     "name": "stdout",
     "output_type": "stream",
     "text": [
      "<class 'pandas.core.frame.DataFrame'>\n",
      "RangeIndex: 4920 entries, 0 to 4919\n",
      "Data columns (total 18 columns):\n",
      " #   Column      Non-Null Count  Dtype \n",
      "---  ------      --------------  ----- \n",
      " 0   Disease     4920 non-null   object\n",
      " 1   Symptom_1   4920 non-null   object\n",
      " 2   Symptom_2   4920 non-null   object\n",
      " 3   Symptom_3   4920 non-null   object\n",
      " 4   Symptom_4   4572 non-null   object\n",
      " 5   Symptom_5   3714 non-null   object\n",
      " 6   Symptom_6   2934 non-null   object\n",
      " 7   Symptom_7   2268 non-null   object\n",
      " 8   Symptom_8   1944 non-null   object\n",
      " 9   Symptom_9   1692 non-null   object\n",
      " 10  Symptom_10  1512 non-null   object\n",
      " 11  Symptom_11  1194 non-null   object\n",
      " 12  Symptom_12  744 non-null    object\n",
      " 13  Symptom_13  504 non-null    object\n",
      " 14  Symptom_14  306 non-null    object\n",
      " 15  Symptom_15  240 non-null    object\n",
      " 16  Symptom_16  192 non-null    object\n",
      " 17  Symptom_17  72 non-null     object\n",
      "dtypes: object(18)\n",
      "memory usage: 692.0+ KB\n"
     ]
    }
   ],
   "source": [
    "df.info()"
   ]
  },
  {
   "cell_type": "code",
   "execution_count": 10,
   "id": "def553e5",
   "metadata": {
    "execution": {
     "iopub.execute_input": "2023-09-08T20:19:35.301504Z",
     "iopub.status.busy": "2023-09-08T20:19:35.301117Z",
     "iopub.status.idle": "2023-09-08T20:19:35.306691Z",
     "shell.execute_reply": "2023-09-08T20:19:35.305632Z"
    },
    "papermill": {
     "duration": 0.025551,
     "end_time": "2023-09-08T20:19:35.309334",
     "exception": false,
     "start_time": "2023-09-08T20:19:35.283783",
     "status": "completed"
    },
    "tags": []
   },
   "outputs": [],
   "source": [
    "def remove_space_between_words(df):\n",
    "    for col in df.columns:\n",
    "        if df[col].dtype == 'object':\n",
    "            df[col] = df[col].str.strip().str.replace(\" \", \"_\")\n",
    "    return df"
   ]
  },
  {
   "cell_type": "code",
   "execution_count": 11,
   "id": "88b15979",
   "metadata": {
    "execution": {
     "iopub.execute_input": "2023-09-08T20:19:35.342437Z",
     "iopub.status.busy": "2023-09-08T20:19:35.341607Z",
     "iopub.status.idle": "2023-09-08T20:19:35.434918Z",
     "shell.execute_reply": "2023-09-08T20:19:35.433785Z"
    },
    "papermill": {
     "duration": 0.112547,
     "end_time": "2023-09-08T20:19:35.437366",
     "exception": false,
     "start_time": "2023-09-08T20:19:35.324819",
     "status": "completed"
    },
    "tags": []
   },
   "outputs": [
    {
     "data": {
      "text/html": [
       "<div>\n",
       "<style scoped>\n",
       "    .dataframe tbody tr th:only-of-type {\n",
       "        vertical-align: middle;\n",
       "    }\n",
       "\n",
       "    .dataframe tbody tr th {\n",
       "        vertical-align: top;\n",
       "    }\n",
       "\n",
       "    .dataframe thead th {\n",
       "        text-align: right;\n",
       "    }\n",
       "</style>\n",
       "<table border=\"1\" class=\"dataframe\">\n",
       "  <thead>\n",
       "    <tr style=\"text-align: right;\">\n",
       "      <th></th>\n",
       "      <th>Disease</th>\n",
       "      <th>Symptom_1</th>\n",
       "      <th>Symptom_2</th>\n",
       "      <th>Symptom_3</th>\n",
       "      <th>Symptom_4</th>\n",
       "      <th>Symptom_5</th>\n",
       "      <th>Symptom_6</th>\n",
       "      <th>Symptom_7</th>\n",
       "      <th>Symptom_8</th>\n",
       "      <th>Symptom_9</th>\n",
       "      <th>Symptom_10</th>\n",
       "      <th>Symptom_11</th>\n",
       "      <th>Symptom_12</th>\n",
       "      <th>Symptom_13</th>\n",
       "      <th>Symptom_14</th>\n",
       "      <th>Symptom_15</th>\n",
       "      <th>Symptom_16</th>\n",
       "      <th>Symptom_17</th>\n",
       "    </tr>\n",
       "  </thead>\n",
       "  <tbody>\n",
       "    <tr>\n",
       "      <th>0</th>\n",
       "      <td>Fungal_infection</td>\n",
       "      <td>itching</td>\n",
       "      <td>skin_rash</td>\n",
       "      <td>nodal_skin_eruptions</td>\n",
       "      <td>dischromic__patches</td>\n",
       "      <td>NaN</td>\n",
       "      <td>NaN</td>\n",
       "      <td>NaN</td>\n",
       "      <td>NaN</td>\n",
       "      <td>NaN</td>\n",
       "      <td>NaN</td>\n",
       "      <td>NaN</td>\n",
       "      <td>NaN</td>\n",
       "      <td>NaN</td>\n",
       "      <td>NaN</td>\n",
       "      <td>NaN</td>\n",
       "      <td>NaN</td>\n",
       "      <td>NaN</td>\n",
       "    </tr>\n",
       "    <tr>\n",
       "      <th>1</th>\n",
       "      <td>Fungal_infection</td>\n",
       "      <td>skin_rash</td>\n",
       "      <td>nodal_skin_eruptions</td>\n",
       "      <td>dischromic__patches</td>\n",
       "      <td>NaN</td>\n",
       "      <td>NaN</td>\n",
       "      <td>NaN</td>\n",
       "      <td>NaN</td>\n",
       "      <td>NaN</td>\n",
       "      <td>NaN</td>\n",
       "      <td>NaN</td>\n",
       "      <td>NaN</td>\n",
       "      <td>NaN</td>\n",
       "      <td>NaN</td>\n",
       "      <td>NaN</td>\n",
       "      <td>NaN</td>\n",
       "      <td>NaN</td>\n",
       "      <td>NaN</td>\n",
       "    </tr>\n",
       "    <tr>\n",
       "      <th>2</th>\n",
       "      <td>Fungal_infection</td>\n",
       "      <td>itching</td>\n",
       "      <td>nodal_skin_eruptions</td>\n",
       "      <td>dischromic__patches</td>\n",
       "      <td>NaN</td>\n",
       "      <td>NaN</td>\n",
       "      <td>NaN</td>\n",
       "      <td>NaN</td>\n",
       "      <td>NaN</td>\n",
       "      <td>NaN</td>\n",
       "      <td>NaN</td>\n",
       "      <td>NaN</td>\n",
       "      <td>NaN</td>\n",
       "      <td>NaN</td>\n",
       "      <td>NaN</td>\n",
       "      <td>NaN</td>\n",
       "      <td>NaN</td>\n",
       "      <td>NaN</td>\n",
       "    </tr>\n",
       "    <tr>\n",
       "      <th>3</th>\n",
       "      <td>Fungal_infection</td>\n",
       "      <td>itching</td>\n",
       "      <td>skin_rash</td>\n",
       "      <td>dischromic__patches</td>\n",
       "      <td>NaN</td>\n",
       "      <td>NaN</td>\n",
       "      <td>NaN</td>\n",
       "      <td>NaN</td>\n",
       "      <td>NaN</td>\n",
       "      <td>NaN</td>\n",
       "      <td>NaN</td>\n",
       "      <td>NaN</td>\n",
       "      <td>NaN</td>\n",
       "      <td>NaN</td>\n",
       "      <td>NaN</td>\n",
       "      <td>NaN</td>\n",
       "      <td>NaN</td>\n",
       "      <td>NaN</td>\n",
       "    </tr>\n",
       "    <tr>\n",
       "      <th>4</th>\n",
       "      <td>Fungal_infection</td>\n",
       "      <td>itching</td>\n",
       "      <td>skin_rash</td>\n",
       "      <td>nodal_skin_eruptions</td>\n",
       "      <td>NaN</td>\n",
       "      <td>NaN</td>\n",
       "      <td>NaN</td>\n",
       "      <td>NaN</td>\n",
       "      <td>NaN</td>\n",
       "      <td>NaN</td>\n",
       "      <td>NaN</td>\n",
       "      <td>NaN</td>\n",
       "      <td>NaN</td>\n",
       "      <td>NaN</td>\n",
       "      <td>NaN</td>\n",
       "      <td>NaN</td>\n",
       "      <td>NaN</td>\n",
       "      <td>NaN</td>\n",
       "    </tr>\n",
       "  </tbody>\n",
       "</table>\n",
       "</div>"
      ],
      "text/plain": [
       "            Disease  Symptom_1             Symptom_2             Symptom_3  \\\n",
       "0  Fungal_infection    itching             skin_rash  nodal_skin_eruptions   \n",
       "1  Fungal_infection  skin_rash  nodal_skin_eruptions   dischromic__patches   \n",
       "2  Fungal_infection    itching  nodal_skin_eruptions   dischromic__patches   \n",
       "3  Fungal_infection    itching             skin_rash   dischromic__patches   \n",
       "4  Fungal_infection    itching             skin_rash  nodal_skin_eruptions   \n",
       "\n",
       "             Symptom_4 Symptom_5 Symptom_6 Symptom_7 Symptom_8 Symptom_9  \\\n",
       "0  dischromic__patches       NaN       NaN       NaN       NaN       NaN   \n",
       "1                  NaN       NaN       NaN       NaN       NaN       NaN   \n",
       "2                  NaN       NaN       NaN       NaN       NaN       NaN   \n",
       "3                  NaN       NaN       NaN       NaN       NaN       NaN   \n",
       "4                  NaN       NaN       NaN       NaN       NaN       NaN   \n",
       "\n",
       "  Symptom_10 Symptom_11 Symptom_12 Symptom_13 Symptom_14 Symptom_15  \\\n",
       "0        NaN        NaN        NaN        NaN        NaN        NaN   \n",
       "1        NaN        NaN        NaN        NaN        NaN        NaN   \n",
       "2        NaN        NaN        NaN        NaN        NaN        NaN   \n",
       "3        NaN        NaN        NaN        NaN        NaN        NaN   \n",
       "4        NaN        NaN        NaN        NaN        NaN        NaN   \n",
       "\n",
       "  Symptom_16 Symptom_17  \n",
       "0        NaN        NaN  \n",
       "1        NaN        NaN  \n",
       "2        NaN        NaN  \n",
       "3        NaN        NaN  \n",
       "4        NaN        NaN  "
      ]
     },
     "execution_count": 11,
     "metadata": {},
     "output_type": "execute_result"
    }
   ],
   "source": [
    "df = remove_space_between_words(df)\n",
    "df.head()"
   ]
  },
  {
   "cell_type": "code",
   "execution_count": 12,
   "id": "c4a6d390",
   "metadata": {
    "execution": {
     "iopub.execute_input": "2023-09-08T20:19:35.470802Z",
     "iopub.status.busy": "2023-09-08T20:19:35.470042Z",
     "iopub.status.idle": "2023-09-08T20:19:35.480199Z",
     "shell.execute_reply": "2023-09-08T20:19:35.479242Z"
    },
    "papermill": {
     "duration": 0.029484,
     "end_time": "2023-09-08T20:19:35.482480",
     "exception": false,
     "start_time": "2023-09-08T20:19:35.452996",
     "status": "completed"
    },
    "tags": []
   },
   "outputs": [
    {
     "data": {
      "text/plain": [
       "array([['Acne', 'skin_rash', 'pus_filled_pimples', ..., nan, nan, nan],\n",
       "       ['Acne', 'skin_rash', 'pus_filled_pimples', ..., nan, nan, nan],\n",
       "       ['Acne', 'pus_filled_pimples', 'blackheads', ..., nan, nan, nan],\n",
       "       ...,\n",
       "       ['Acne', 'skin_rash', 'pus_filled_pimples', ..., nan, nan, nan],\n",
       "       ['Acne', 'skin_rash', 'pus_filled_pimples', ..., nan, nan, nan],\n",
       "       ['Acne', 'skin_rash', 'pus_filled_pimples', ..., nan, nan, nan]],\n",
       "      dtype=object)"
      ]
     },
     "execution_count": 12,
     "metadata": {},
     "output_type": "execute_result"
    }
   ],
   "source": [
    "df[df['Disease']=='Acne'].values"
   ]
  },
  {
   "cell_type": "code",
   "execution_count": 13,
   "id": "f7340b27",
   "metadata": {
    "execution": {
     "iopub.execute_input": "2023-09-08T20:19:35.516307Z",
     "iopub.status.busy": "2023-09-08T20:19:35.515505Z",
     "iopub.status.idle": "2023-09-08T20:19:35.522599Z",
     "shell.execute_reply": "2023-09-08T20:19:35.521849Z"
    },
    "papermill": {
     "duration": 0.026659,
     "end_time": "2023-09-08T20:19:35.524932",
     "exception": false,
     "start_time": "2023-09-08T20:19:35.498273",
     "status": "completed"
    },
    "tags": []
   },
   "outputs": [],
   "source": [
    "def encode_symptoms(df, data_severity):\n",
    "    for i in data_severity.index:\n",
    "        symptom = data_severity[\"Symptom\"][i]\n",
    "        weight = data_severity[\"weight\"][i]\n",
    "        df = df.replace(symptom, weight)\n",
    "\n",
    "    # Replace missing values with 0\n",
    "    df = df.fillna(0)\n",
    "\n",
    "    # Additional hardcoded replacements\n",
    "    df = df.replace(\"foul_smell_of_urine\", 5)\n",
    "    df = df.replace(\"dischromic__patches\", 6)\n",
    "    df = df.replace(\"spotting__urination\", 6)\n",
    "    \n",
    "    return df"
   ]
  },
  {
   "cell_type": "code",
   "execution_count": 14,
   "id": "9773658d",
   "metadata": {
    "execution": {
     "iopub.execute_input": "2023-09-08T20:19:35.558814Z",
     "iopub.status.busy": "2023-09-08T20:19:35.558010Z",
     "iopub.status.idle": "2023-09-08T20:19:47.099766Z",
     "shell.execute_reply": "2023-09-08T20:19:47.098462Z"
    },
    "papermill": {
     "duration": 11.562299,
     "end_time": "2023-09-08T20:19:47.103062",
     "exception": false,
     "start_time": "2023-09-08T20:19:35.540763",
     "status": "completed"
    },
    "tags": []
   },
   "outputs": [],
   "source": [
    "new_df = encode_symptoms(df, data_severity)"
   ]
  },
  {
   "cell_type": "code",
   "execution_count": 15,
   "id": "42f2dc12",
   "metadata": {
    "execution": {
     "iopub.execute_input": "2023-09-08T20:19:47.137265Z",
     "iopub.status.busy": "2023-09-08T20:19:47.136842Z",
     "iopub.status.idle": "2023-09-08T20:19:47.166067Z",
     "shell.execute_reply": "2023-09-08T20:19:47.164897Z"
    },
    "papermill": {
     "duration": 0.048711,
     "end_time": "2023-09-08T20:19:47.168509",
     "exception": false,
     "start_time": "2023-09-08T20:19:47.119798",
     "status": "completed"
    },
    "tags": []
   },
   "outputs": [
    {
     "data": {
      "text/html": [
       "<div>\n",
       "<style scoped>\n",
       "    .dataframe tbody tr th:only-of-type {\n",
       "        vertical-align: middle;\n",
       "    }\n",
       "\n",
       "    .dataframe tbody tr th {\n",
       "        vertical-align: top;\n",
       "    }\n",
       "\n",
       "    .dataframe thead th {\n",
       "        text-align: right;\n",
       "    }\n",
       "</style>\n",
       "<table border=\"1\" class=\"dataframe\">\n",
       "  <thead>\n",
       "    <tr style=\"text-align: right;\">\n",
       "      <th></th>\n",
       "      <th>Disease</th>\n",
       "      <th>Symptom_1</th>\n",
       "      <th>Symptom_2</th>\n",
       "      <th>Symptom_3</th>\n",
       "      <th>Symptom_4</th>\n",
       "      <th>Symptom_5</th>\n",
       "      <th>Symptom_6</th>\n",
       "      <th>Symptom_7</th>\n",
       "      <th>Symptom_8</th>\n",
       "      <th>Symptom_9</th>\n",
       "      <th>Symptom_10</th>\n",
       "      <th>Symptom_11</th>\n",
       "      <th>Symptom_12</th>\n",
       "      <th>Symptom_13</th>\n",
       "      <th>Symptom_14</th>\n",
       "      <th>Symptom_15</th>\n",
       "      <th>Symptom_16</th>\n",
       "      <th>Symptom_17</th>\n",
       "    </tr>\n",
       "  </thead>\n",
       "  <tbody>\n",
       "    <tr>\n",
       "      <th>0</th>\n",
       "      <td>Fungal_infection</td>\n",
       "      <td>1</td>\n",
       "      <td>3</td>\n",
       "      <td>4</td>\n",
       "      <td>6</td>\n",
       "      <td>0</td>\n",
       "      <td>0.0</td>\n",
       "      <td>0.0</td>\n",
       "      <td>0.0</td>\n",
       "      <td>0.0</td>\n",
       "      <td>0.0</td>\n",
       "      <td>0.0</td>\n",
       "      <td>0.0</td>\n",
       "      <td>0.0</td>\n",
       "      <td>0.0</td>\n",
       "      <td>0.0</td>\n",
       "      <td>0.0</td>\n",
       "      <td>0.0</td>\n",
       "    </tr>\n",
       "    <tr>\n",
       "      <th>1</th>\n",
       "      <td>Fungal_infection</td>\n",
       "      <td>3</td>\n",
       "      <td>4</td>\n",
       "      <td>6</td>\n",
       "      <td>0</td>\n",
       "      <td>0</td>\n",
       "      <td>0.0</td>\n",
       "      <td>0.0</td>\n",
       "      <td>0.0</td>\n",
       "      <td>0.0</td>\n",
       "      <td>0.0</td>\n",
       "      <td>0.0</td>\n",
       "      <td>0.0</td>\n",
       "      <td>0.0</td>\n",
       "      <td>0.0</td>\n",
       "      <td>0.0</td>\n",
       "      <td>0.0</td>\n",
       "      <td>0.0</td>\n",
       "    </tr>\n",
       "    <tr>\n",
       "      <th>2</th>\n",
       "      <td>Fungal_infection</td>\n",
       "      <td>1</td>\n",
       "      <td>4</td>\n",
       "      <td>6</td>\n",
       "      <td>0</td>\n",
       "      <td>0</td>\n",
       "      <td>0.0</td>\n",
       "      <td>0.0</td>\n",
       "      <td>0.0</td>\n",
       "      <td>0.0</td>\n",
       "      <td>0.0</td>\n",
       "      <td>0.0</td>\n",
       "      <td>0.0</td>\n",
       "      <td>0.0</td>\n",
       "      <td>0.0</td>\n",
       "      <td>0.0</td>\n",
       "      <td>0.0</td>\n",
       "      <td>0.0</td>\n",
       "    </tr>\n",
       "    <tr>\n",
       "      <th>3</th>\n",
       "      <td>Fungal_infection</td>\n",
       "      <td>1</td>\n",
       "      <td>3</td>\n",
       "      <td>6</td>\n",
       "      <td>0</td>\n",
       "      <td>0</td>\n",
       "      <td>0.0</td>\n",
       "      <td>0.0</td>\n",
       "      <td>0.0</td>\n",
       "      <td>0.0</td>\n",
       "      <td>0.0</td>\n",
       "      <td>0.0</td>\n",
       "      <td>0.0</td>\n",
       "      <td>0.0</td>\n",
       "      <td>0.0</td>\n",
       "      <td>0.0</td>\n",
       "      <td>0.0</td>\n",
       "      <td>0.0</td>\n",
       "    </tr>\n",
       "    <tr>\n",
       "      <th>4</th>\n",
       "      <td>Fungal_infection</td>\n",
       "      <td>1</td>\n",
       "      <td>3</td>\n",
       "      <td>4</td>\n",
       "      <td>0</td>\n",
       "      <td>0</td>\n",
       "      <td>0.0</td>\n",
       "      <td>0.0</td>\n",
       "      <td>0.0</td>\n",
       "      <td>0.0</td>\n",
       "      <td>0.0</td>\n",
       "      <td>0.0</td>\n",
       "      <td>0.0</td>\n",
       "      <td>0.0</td>\n",
       "      <td>0.0</td>\n",
       "      <td>0.0</td>\n",
       "      <td>0.0</td>\n",
       "      <td>0.0</td>\n",
       "    </tr>\n",
       "  </tbody>\n",
       "</table>\n",
       "</div>"
      ],
      "text/plain": [
       "            Disease  Symptom_1  Symptom_2  Symptom_3  Symptom_4  Symptom_5  \\\n",
       "0  Fungal_infection          1          3          4          6          0   \n",
       "1  Fungal_infection          3          4          6          0          0   \n",
       "2  Fungal_infection          1          4          6          0          0   \n",
       "3  Fungal_infection          1          3          6          0          0   \n",
       "4  Fungal_infection          1          3          4          0          0   \n",
       "\n",
       "   Symptom_6  Symptom_7  Symptom_8  Symptom_9  Symptom_10  Symptom_11  \\\n",
       "0        0.0        0.0        0.0        0.0         0.0         0.0   \n",
       "1        0.0        0.0        0.0        0.0         0.0         0.0   \n",
       "2        0.0        0.0        0.0        0.0         0.0         0.0   \n",
       "3        0.0        0.0        0.0        0.0         0.0         0.0   \n",
       "4        0.0        0.0        0.0        0.0         0.0         0.0   \n",
       "\n",
       "   Symptom_12  Symptom_13  Symptom_14  Symptom_15  Symptom_16  Symptom_17  \n",
       "0         0.0         0.0         0.0         0.0         0.0         0.0  \n",
       "1         0.0         0.0         0.0         0.0         0.0         0.0  \n",
       "2         0.0         0.0         0.0         0.0         0.0         0.0  \n",
       "3         0.0         0.0         0.0         0.0         0.0         0.0  \n",
       "4         0.0         0.0         0.0         0.0         0.0         0.0  "
      ]
     },
     "execution_count": 15,
     "metadata": {},
     "output_type": "execute_result"
    }
   ],
   "source": [
    "new_df.head()"
   ]
  },
  {
   "cell_type": "code",
   "execution_count": 16,
   "id": "a28c97fc",
   "metadata": {
    "execution": {
     "iopub.execute_input": "2023-09-08T20:19:47.202589Z",
     "iopub.status.busy": "2023-09-08T20:19:47.202181Z",
     "iopub.status.idle": "2023-09-08T20:19:47.244153Z",
     "shell.execute_reply": "2023-09-08T20:19:47.242865Z"
    },
    "papermill": {
     "duration": 0.061733,
     "end_time": "2023-09-08T20:19:47.246403",
     "exception": false,
     "start_time": "2023-09-08T20:19:47.184670",
     "status": "completed"
    },
    "tags": []
   },
   "outputs": [
    {
     "name": "stdout",
     "output_type": "stream",
     "text": [
      "All symptoms have been replaced.\n"
     ]
    }
   ],
   "source": [
    "names = []\n",
    "\n",
    "# Iterate through columns except for \"Disease\"\n",
    "for col in new_df.columns:\n",
    "    if col != \"Disease\":\n",
    "        # Iterate through rows in the column\n",
    "        for symptom in new_df[col]:\n",
    "            # Check if the value is a string and not in the 'names' list\n",
    "            if isinstance(symptom, str) and symptom not in names:\n",
    "                names.append(symptom)\n",
    "\n",
    "# Check if all symptoms have been replaced\n",
    "all_replaced = all(symptom not in names for symptom in data_severity[\"Symptom\"])\n",
    "\n",
    "if all_replaced:\n",
    "    print(\"All symptoms have been replaced.\")\n",
    "else:\n",
    "    print(\"The following symptoms were not replaced:\", names)\n"
   ]
  },
  {
   "cell_type": "code",
   "execution_count": 17,
   "id": "846ea8dd",
   "metadata": {
    "execution": {
     "iopub.execute_input": "2023-09-08T20:19:47.280579Z",
     "iopub.status.busy": "2023-09-08T20:19:47.280180Z",
     "iopub.status.idle": "2023-09-08T20:19:47.289756Z",
     "shell.execute_reply": "2023-09-08T20:19:47.288616Z"
    },
    "papermill": {
     "duration": 0.02938,
     "end_time": "2023-09-08T20:19:47.292102",
     "exception": false,
     "start_time": "2023-09-08T20:19:47.262722",
     "status": "completed"
    },
    "tags": []
   },
   "outputs": [],
   "source": [
    "# separating the data and labels\n",
    "X = new_df.drop(columns='Disease', axis=1)\n",
    "Y = new_df['Disease']"
   ]
  },
  {
   "cell_type": "code",
   "execution_count": 18,
   "id": "e8033cb2",
   "metadata": {
    "execution": {
     "iopub.execute_input": "2023-09-08T20:19:47.327445Z",
     "iopub.status.busy": "2023-09-08T20:19:47.327013Z",
     "iopub.status.idle": "2023-09-08T20:19:47.348936Z",
     "shell.execute_reply": "2023-09-08T20:19:47.346874Z"
    },
    "papermill": {
     "duration": 0.042773,
     "end_time": "2023-09-08T20:19:47.351421",
     "exception": false,
     "start_time": "2023-09-08T20:19:47.308648",
     "status": "completed"
    },
    "tags": []
   },
   "outputs": [
    {
     "name": "stdout",
     "output_type": "stream",
     "text": [
      "      Symptom_1  Symptom_2  Symptom_3  Symptom_4  Symptom_5  Symptom_6  \\\n",
      "0             1          3          4          6          0        0.0   \n",
      "1             3          4          6          0          0        0.0   \n",
      "2             1          4          6          0          0        0.0   \n",
      "3             1          3          6          0          0        0.0   \n",
      "4             1          3          4          0          0        0.0   \n",
      "...         ...        ...        ...        ...        ...        ...   \n",
      "4915          5          3          5          6          4        4.0   \n",
      "4916          3          2          2          2          0        0.0   \n",
      "4917          6          4          5          6          0        0.0   \n",
      "4918          3          3          3          2          2        2.0   \n",
      "4919          3          7          4          2          3        0.0   \n",
      "\n",
      "      Symptom_7  Symptom_8  Symptom_9  Symptom_10  Symptom_11  Symptom_12  \\\n",
      "0           0.0        0.0        0.0         0.0         0.0         0.0   \n",
      "1           0.0        0.0        0.0         0.0         0.0         0.0   \n",
      "2           0.0        0.0        0.0         0.0         0.0         0.0   \n",
      "3           0.0        0.0        0.0         0.0         0.0         0.0   \n",
      "4           0.0        0.0        0.0         0.0         0.0         0.0   \n",
      "...         ...        ...        ...         ...         ...         ...   \n",
      "4915        0.0        0.0        0.0         0.0         0.0         0.0   \n",
      "4916        0.0        0.0        0.0         0.0         0.0         0.0   \n",
      "4917        0.0        0.0        0.0         0.0         0.0         0.0   \n",
      "4918        0.0        0.0        0.0         0.0         0.0         0.0   \n",
      "4919        0.0        0.0        0.0         0.0         0.0         0.0   \n",
      "\n",
      "      Symptom_13  Symptom_14  Symptom_15  Symptom_16  Symptom_17  \n",
      "0            0.0         0.0         0.0         0.0         0.0  \n",
      "1            0.0         0.0         0.0         0.0         0.0  \n",
      "2            0.0         0.0         0.0         0.0         0.0  \n",
      "3            0.0         0.0         0.0         0.0         0.0  \n",
      "4            0.0         0.0         0.0         0.0         0.0  \n",
      "...          ...         ...         ...         ...         ...  \n",
      "4915         0.0         0.0         0.0         0.0         0.0  \n",
      "4916         0.0         0.0         0.0         0.0         0.0  \n",
      "4917         0.0         0.0         0.0         0.0         0.0  \n",
      "4918         0.0         0.0         0.0         0.0         0.0  \n",
      "4919         0.0         0.0         0.0         0.0         0.0  \n",
      "\n",
      "[4920 rows x 17 columns]\n"
     ]
    }
   ],
   "source": [
    "print(X)"
   ]
  },
  {
   "cell_type": "code",
   "execution_count": 19,
   "id": "e74afb0f",
   "metadata": {
    "execution": {
     "iopub.execute_input": "2023-09-08T20:19:47.387100Z",
     "iopub.status.busy": "2023-09-08T20:19:47.386442Z",
     "iopub.status.idle": "2023-09-08T20:19:47.392886Z",
     "shell.execute_reply": "2023-09-08T20:19:47.391665Z"
    },
    "papermill": {
     "duration": 0.026652,
     "end_time": "2023-09-08T20:19:47.395138",
     "exception": false,
     "start_time": "2023-09-08T20:19:47.368486",
     "status": "completed"
    },
    "tags": []
   },
   "outputs": [
    {
     "name": "stdout",
     "output_type": "stream",
     "text": [
      "0                              Fungal_infection\n",
      "1                              Fungal_infection\n",
      "2                              Fungal_infection\n",
      "3                              Fungal_infection\n",
      "4                              Fungal_infection\n",
      "                         ...                   \n",
      "4915    (vertigo)_Paroymsal__Positional_Vertigo\n",
      "4916                                       Acne\n",
      "4917                    Urinary_tract_infection\n",
      "4918                                  Psoriasis\n",
      "4919                                   Impetigo\n",
      "Name: Disease, Length: 4920, dtype: object\n"
     ]
    }
   ],
   "source": [
    "print(Y)"
   ]
  },
  {
   "cell_type": "markdown",
   "id": "2c0a655f",
   "metadata": {
    "papermill": {
     "duration": 0.016827,
     "end_time": "2023-09-08T20:19:47.429673",
     "exception": false,
     "start_time": "2023-09-08T20:19:47.412846",
     "status": "completed"
    },
    "tags": []
   },
   "source": [
    "# Data Standardization"
   ]
  },
  {
   "cell_type": "code",
   "execution_count": 20,
   "id": "1e2dcf6c",
   "metadata": {
    "execution": {
     "iopub.execute_input": "2023-09-08T20:19:47.525029Z",
     "iopub.status.busy": "2023-09-08T20:19:47.524275Z",
     "iopub.status.idle": "2023-09-08T20:19:47.529367Z",
     "shell.execute_reply": "2023-09-08T20:19:47.528258Z"
    },
    "papermill": {
     "duration": 0.026272,
     "end_time": "2023-09-08T20:19:47.532285",
     "exception": false,
     "start_time": "2023-09-08T20:19:47.506013",
     "status": "completed"
    },
    "tags": []
   },
   "outputs": [],
   "source": [
    "scaler = StandardScaler()"
   ]
  },
  {
   "cell_type": "code",
   "execution_count": 21,
   "id": "9be142fe",
   "metadata": {
    "execution": {
     "iopub.execute_input": "2023-09-08T20:19:47.568206Z",
     "iopub.status.busy": "2023-09-08T20:19:47.567788Z",
     "iopub.status.idle": "2023-09-08T20:19:47.586407Z",
     "shell.execute_reply": "2023-09-08T20:19:47.585355Z"
    },
    "papermill": {
     "duration": 0.038961,
     "end_time": "2023-09-08T20:19:47.588767",
     "exception": false,
     "start_time": "2023-09-08T20:19:47.549806",
     "status": "completed"
    },
    "tags": []
   },
   "outputs": [
    {
     "data": {
      "text/html": [
       "<style>#sk-container-id-1 {color: black;background-color: white;}#sk-container-id-1 pre{padding: 0;}#sk-container-id-1 div.sk-toggleable {background-color: white;}#sk-container-id-1 label.sk-toggleable__label {cursor: pointer;display: block;width: 100%;margin-bottom: 0;padding: 0.3em;box-sizing: border-box;text-align: center;}#sk-container-id-1 label.sk-toggleable__label-arrow:before {content: \"▸\";float: left;margin-right: 0.25em;color: #696969;}#sk-container-id-1 label.sk-toggleable__label-arrow:hover:before {color: black;}#sk-container-id-1 div.sk-estimator:hover label.sk-toggleable__label-arrow:before {color: black;}#sk-container-id-1 div.sk-toggleable__content {max-height: 0;max-width: 0;overflow: hidden;text-align: left;background-color: #f0f8ff;}#sk-container-id-1 div.sk-toggleable__content pre {margin: 0.2em;color: black;border-radius: 0.25em;background-color: #f0f8ff;}#sk-container-id-1 input.sk-toggleable__control:checked~div.sk-toggleable__content {max-height: 200px;max-width: 100%;overflow: auto;}#sk-container-id-1 input.sk-toggleable__control:checked~label.sk-toggleable__label-arrow:before {content: \"▾\";}#sk-container-id-1 div.sk-estimator input.sk-toggleable__control:checked~label.sk-toggleable__label {background-color: #d4ebff;}#sk-container-id-1 div.sk-label input.sk-toggleable__control:checked~label.sk-toggleable__label {background-color: #d4ebff;}#sk-container-id-1 input.sk-hidden--visually {border: 0;clip: rect(1px 1px 1px 1px);clip: rect(1px, 1px, 1px, 1px);height: 1px;margin: -1px;overflow: hidden;padding: 0;position: absolute;width: 1px;}#sk-container-id-1 div.sk-estimator {font-family: monospace;background-color: #f0f8ff;border: 1px dotted black;border-radius: 0.25em;box-sizing: border-box;margin-bottom: 0.5em;}#sk-container-id-1 div.sk-estimator:hover {background-color: #d4ebff;}#sk-container-id-1 div.sk-parallel-item::after {content: \"\";width: 100%;border-bottom: 1px solid gray;flex-grow: 1;}#sk-container-id-1 div.sk-label:hover label.sk-toggleable__label {background-color: #d4ebff;}#sk-container-id-1 div.sk-serial::before {content: \"\";position: absolute;border-left: 1px solid gray;box-sizing: border-box;top: 0;bottom: 0;left: 50%;z-index: 0;}#sk-container-id-1 div.sk-serial {display: flex;flex-direction: column;align-items: center;background-color: white;padding-right: 0.2em;padding-left: 0.2em;position: relative;}#sk-container-id-1 div.sk-item {position: relative;z-index: 1;}#sk-container-id-1 div.sk-parallel {display: flex;align-items: stretch;justify-content: center;background-color: white;position: relative;}#sk-container-id-1 div.sk-item::before, #sk-container-id-1 div.sk-parallel-item::before {content: \"\";position: absolute;border-left: 1px solid gray;box-sizing: border-box;top: 0;bottom: 0;left: 50%;z-index: -1;}#sk-container-id-1 div.sk-parallel-item {display: flex;flex-direction: column;z-index: 1;position: relative;background-color: white;}#sk-container-id-1 div.sk-parallel-item:first-child::after {align-self: flex-end;width: 50%;}#sk-container-id-1 div.sk-parallel-item:last-child::after {align-self: flex-start;width: 50%;}#sk-container-id-1 div.sk-parallel-item:only-child::after {width: 0;}#sk-container-id-1 div.sk-dashed-wrapped {border: 1px dashed gray;margin: 0 0.4em 0.5em 0.4em;box-sizing: border-box;padding-bottom: 0.4em;background-color: white;}#sk-container-id-1 div.sk-label label {font-family: monospace;font-weight: bold;display: inline-block;line-height: 1.2em;}#sk-container-id-1 div.sk-label-container {text-align: center;}#sk-container-id-1 div.sk-container {/* jupyter's `normalize.less` sets `[hidden] { display: none; }` but bootstrap.min.css set `[hidden] { display: none !important; }` so we also need the `!important` here to be able to override the default hidden behavior on the sphinx rendered scikit-learn.org. See: https://github.com/scikit-learn/scikit-learn/issues/21755 */display: inline-block !important;position: relative;}#sk-container-id-1 div.sk-text-repr-fallback {display: none;}</style><div id=\"sk-container-id-1\" class=\"sk-top-container\"><div class=\"sk-text-repr-fallback\"><pre>StandardScaler()</pre><b>In a Jupyter environment, please rerun this cell to show the HTML representation or trust the notebook. <br />On GitHub, the HTML representation is unable to render, please try loading this page with nbviewer.org.</b></div><div class=\"sk-container\" hidden><div class=\"sk-item\"><div class=\"sk-estimator sk-toggleable\"><input class=\"sk-toggleable__control sk-hidden--visually\" id=\"sk-estimator-id-1\" type=\"checkbox\" checked><label for=\"sk-estimator-id-1\" class=\"sk-toggleable__label sk-toggleable__label-arrow\">StandardScaler</label><div class=\"sk-toggleable__content\"><pre>StandardScaler()</pre></div></div></div></div></div>"
      ],
      "text/plain": [
       "StandardScaler()"
      ]
     },
     "execution_count": 21,
     "metadata": {},
     "output_type": "execute_result"
    }
   ],
   "source": [
    "scaler.fit(X)"
   ]
  },
  {
   "cell_type": "code",
   "execution_count": 22,
   "id": "96f1236b",
   "metadata": {
    "execution": {
     "iopub.execute_input": "2023-09-08T20:19:47.625538Z",
     "iopub.status.busy": "2023-09-08T20:19:47.624615Z",
     "iopub.status.idle": "2023-09-08T20:19:47.632615Z",
     "shell.execute_reply": "2023-09-08T20:19:47.631774Z"
    },
    "papermill": {
     "duration": 0.028693,
     "end_time": "2023-09-08T20:19:47.634965",
     "exception": false,
     "start_time": "2023-09-08T20:19:47.606272",
     "status": "completed"
    },
    "tags": []
   },
   "outputs": [],
   "source": [
    "standardized_data = scaler.transform(X)"
   ]
  },
  {
   "cell_type": "code",
   "execution_count": 23,
   "id": "fea74a42",
   "metadata": {
    "execution": {
     "iopub.execute_input": "2023-09-08T20:19:47.671109Z",
     "iopub.status.busy": "2023-09-08T20:19:47.670683Z",
     "iopub.status.idle": "2023-09-08T20:19:47.676906Z",
     "shell.execute_reply": "2023-09-08T20:19:47.675847Z"
    },
    "papermill": {
     "duration": 0.027095,
     "end_time": "2023-09-08T20:19:47.679369",
     "exception": false,
     "start_time": "2023-09-08T20:19:47.652274",
     "status": "completed"
    },
    "tags": []
   },
   "outputs": [
    {
     "name": "stdout",
     "output_type": "stream",
     "text": [
      "[[-1.83180372 -0.96557578 -0.13863618 ... -0.21790657 -0.18978799\n",
      "  -0.12186667]\n",
      " [-0.3122498  -0.13736225  1.46251409 ... -0.21790657 -0.18978799\n",
      "  -0.12186667]\n",
      " [-1.83180372 -0.13736225  1.46251409 ... -0.21790657 -0.18978799\n",
      "  -0.12186667]\n",
      " ...\n",
      " [ 1.96708109 -0.13736225  0.66193895 ... -0.21790657 -0.18978799\n",
      "  -0.12186667]\n",
      " [-0.3122498  -0.96557578 -0.93921132 ... -0.21790657 -0.18978799\n",
      "  -0.12186667]\n",
      " [-0.3122498   2.34727837 -0.13863618 ... -0.21790657 -0.18978799\n",
      "  -0.12186667]]\n"
     ]
    }
   ],
   "source": [
    "print(standardized_data)"
   ]
  },
  {
   "cell_type": "code",
   "execution_count": 24,
   "id": "e9a7419d",
   "metadata": {
    "execution": {
     "iopub.execute_input": "2023-09-08T20:19:47.715086Z",
     "iopub.status.busy": "2023-09-08T20:19:47.714652Z",
     "iopub.status.idle": "2023-09-08T20:19:47.719878Z",
     "shell.execute_reply": "2023-09-08T20:19:47.718701Z"
    },
    "papermill": {
     "duration": 0.025979,
     "end_time": "2023-09-08T20:19:47.722383",
     "exception": false,
     "start_time": "2023-09-08T20:19:47.696404",
     "status": "completed"
    },
    "tags": []
   },
   "outputs": [],
   "source": [
    "X = standardized_data\n",
    "Y = new_df['Disease']"
   ]
  },
  {
   "cell_type": "code",
   "execution_count": 25,
   "id": "eeba85a5",
   "metadata": {
    "execution": {
     "iopub.execute_input": "2023-09-08T20:19:47.759767Z",
     "iopub.status.busy": "2023-09-08T20:19:47.758940Z",
     "iopub.status.idle": "2023-09-08T20:19:47.766391Z",
     "shell.execute_reply": "2023-09-08T20:19:47.764848Z"
    },
    "papermill": {
     "duration": 0.028789,
     "end_time": "2023-09-08T20:19:47.768882",
     "exception": false,
     "start_time": "2023-09-08T20:19:47.740093",
     "status": "completed"
    },
    "tags": []
   },
   "outputs": [
    {
     "name": "stdout",
     "output_type": "stream",
     "text": [
      "[[-1.83180372 -0.96557578 -0.13863618 ... -0.21790657 -0.18978799\n",
      "  -0.12186667]\n",
      " [-0.3122498  -0.13736225  1.46251409 ... -0.21790657 -0.18978799\n",
      "  -0.12186667]\n",
      " [-1.83180372 -0.13736225  1.46251409 ... -0.21790657 -0.18978799\n",
      "  -0.12186667]\n",
      " ...\n",
      " [ 1.96708109 -0.13736225  0.66193895 ... -0.21790657 -0.18978799\n",
      "  -0.12186667]\n",
      " [-0.3122498  -0.96557578 -0.93921132 ... -0.21790657 -0.18978799\n",
      "  -0.12186667]\n",
      " [-0.3122498   2.34727837 -0.13863618 ... -0.21790657 -0.18978799\n",
      "  -0.12186667]]\n"
     ]
    }
   ],
   "source": [
    "print(X)"
   ]
  },
  {
   "cell_type": "code",
   "execution_count": 26,
   "id": "6775258e",
   "metadata": {
    "execution": {
     "iopub.execute_input": "2023-09-08T20:19:47.804978Z",
     "iopub.status.busy": "2023-09-08T20:19:47.804580Z",
     "iopub.status.idle": "2023-09-08T20:19:47.811427Z",
     "shell.execute_reply": "2023-09-08T20:19:47.810285Z"
    },
    "papermill": {
     "duration": 0.027554,
     "end_time": "2023-09-08T20:19:47.813730",
     "exception": false,
     "start_time": "2023-09-08T20:19:47.786176",
     "status": "completed"
    },
    "tags": []
   },
   "outputs": [
    {
     "name": "stdout",
     "output_type": "stream",
     "text": [
      "0                              Fungal_infection\n",
      "1                              Fungal_infection\n",
      "2                              Fungal_infection\n",
      "3                              Fungal_infection\n",
      "4                              Fungal_infection\n",
      "                         ...                   \n",
      "4915    (vertigo)_Paroymsal__Positional_Vertigo\n",
      "4916                                       Acne\n",
      "4917                    Urinary_tract_infection\n",
      "4918                                  Psoriasis\n",
      "4919                                   Impetigo\n",
      "Name: Disease, Length: 4920, dtype: object\n"
     ]
    }
   ],
   "source": [
    "print(Y)"
   ]
  },
  {
   "cell_type": "markdown",
   "id": "10770b34",
   "metadata": {
    "papermill": {
     "duration": 0.017313,
     "end_time": "2023-09-08T20:19:47.848454",
     "exception": false,
     "start_time": "2023-09-08T20:19:47.831141",
     "status": "completed"
    },
    "tags": []
   },
   "source": [
    "#  Random Forest Classifier"
   ]
  },
  {
   "cell_type": "code",
   "execution_count": 27,
   "id": "ecd12d6e",
   "metadata": {
    "execution": {
     "iopub.execute_input": "2023-09-08T20:19:47.885818Z",
     "iopub.status.busy": "2023-09-08T20:19:47.885366Z",
     "iopub.status.idle": "2023-09-08T20:19:48.884540Z",
     "shell.execute_reply": "2023-09-08T20:19:48.882785Z"
    },
    "papermill": {
     "duration": 1.02067,
     "end_time": "2023-09-08T20:19:48.886928",
     "exception": false,
     "start_time": "2023-09-08T20:19:47.866258",
     "status": "completed"
    },
    "tags": []
   },
   "outputs": [
    {
     "name": "stdout",
     "output_type": "stream",
     "text": [
      "Random Forest\n",
      "Accuracy: 0.991869918699187\n",
      "Precision: 0.9928005598737307\n",
      "Recall: 0.9909757027776227\n",
      "F1-Score: 0.9914564591749411\n",
      "976\n",
      "Confusion matrix\n",
      "[[18  0  0 ...  0  0  0]\n",
      " [ 0 30  0 ...  0  0  0]\n",
      " [ 0  0 24 ...  0  0  0]\n",
      " ...\n",
      " [ 0  0  0 ... 26  0  0]\n",
      " [ 0  0  0 ...  0 22  0]\n",
      " [ 0  0  0 ...  0  0 34]]\n"
     ]
    }
   ],
   "source": [
    "from sklearn.ensemble import RandomForestClassifier\n",
    "# Split the data into training and testing sets\n",
    "X_train, X_test, Y_train, Y_test = train_test_split(X, Y, test_size=0.2, random_state=42)\n",
    "\n",
    "# Create a Random Forest Classifier\n",
    "rfc_classifier = RandomForestClassifier(n_estimators=100, random_state=42)\n",
    "\n",
    "# Fit the model on the training data\n",
    "rfc_classifier.fit(X_train, Y_train)\n",
    "\n",
    "# Predict disease labels on the testing data\n",
    "Y_pred = rfc_classifier.predict(X_test)\n",
    "\n",
    "# Calculate accuracy\n",
    "accuracy = accuracy_score(Y_test, Y_pred)\n",
    "\n",
    "precision = precision_score(Y_test, Y_pred, average='macro')\n",
    "recall = recall_score(Y_test, Y_pred,average='macro')\n",
    "f1 = f1_score(Y_test, Y_pred, average='macro')\n",
    "\n",
    "print(\"Random Forest\")\n",
    "print(f'Accuracy: {accuracy}')\n",
    "print(f'Precision: {precision}')\n",
    "print(f'Recall: {recall}')\n",
    "print(f'F1-Score: {f1}')\n",
    "print(accuracy_score(Y_test, Y_pred,normalize=False))\n",
    "print(\"Confusion matrix\")\n",
    "conf_matrix=confusion_matrix(Y_test,Y_pred)\n",
    "print(conf_matrix)"
   ]
  },
  {
   "cell_type": "markdown",
   "id": "a20c33c3",
   "metadata": {
    "papermill": {
     "duration": 0.017009,
     "end_time": "2023-09-08T20:19:48.921509",
     "exception": false,
     "start_time": "2023-09-08T20:19:48.904500",
     "status": "completed"
    },
    "tags": []
   },
   "source": [
    "# Decision Tree Classifier"
   ]
  },
  {
   "cell_type": "code",
   "execution_count": 28,
   "id": "892953a1",
   "metadata": {
    "execution": {
     "iopub.execute_input": "2023-09-08T20:19:48.958130Z",
     "iopub.status.busy": "2023-09-08T20:19:48.957605Z",
     "iopub.status.idle": "2023-09-08T20:19:49.044188Z",
     "shell.execute_reply": "2023-09-08T20:19:49.042702Z"
    },
    "papermill": {
     "duration": 0.107613,
     "end_time": "2023-09-08T20:19:49.046582",
     "exception": false,
     "start_time": "2023-09-08T20:19:48.938969",
     "status": "completed"
    },
    "tags": []
   },
   "outputs": [
    {
     "name": "stdout",
     "output_type": "stream",
     "text": [
      "Decision Tree\n",
      "Accuracy: 0.991869918699187\n",
      "Precision: 0.9928005598737307\n",
      "Recall: 0.9909757027776227\n",
      "F1-Score: 0.9914564591749411\n",
      "976\n",
      "Confusion matrix\n",
      "[[18  0  0 ...  0  0  0]\n",
      " [ 0 30  0 ...  0  0  0]\n",
      " [ 0  0 24 ...  0  0  0]\n",
      " ...\n",
      " [ 0  0  0 ... 26  0  0]\n",
      " [ 0  0  0 ...  0 22  0]\n",
      " [ 0  0  0 ...  0  0 34]]\n"
     ]
    }
   ],
   "source": [
    "from sklearn.tree import DecisionTreeClassifier\n",
    "\n",
    "# Split the data into training and testing sets\n",
    "X_train, X_test, Y_train, Y_test = train_test_split(X, Y, test_size=0.2, random_state=42)\n",
    "\n",
    "# Create a Decision Tree classifier\n",
    "dt_classifier = DecisionTreeClassifier(random_state=42)\n",
    "\n",
    "# Fit the model on the training data\n",
    "dt_classifier.fit(X_train, Y_train)\n",
    "\n",
    "# Predict disease labels on the testing data\n",
    "Y_pred = dt_classifier.predict(X_test)\n",
    "\n",
    "# Calculate accuracy\n",
    "accuracy = accuracy_score(Y_test, Y_pred)\n",
    "\n",
    "precision = precision_score(Y_test, Y_pred, average='macro')\n",
    "recall = recall_score(Y_test, Y_pred,average='macro')\n",
    "f1 = f1_score(Y_test, Y_pred, average='macro')\n",
    "\n",
    "print(\"Decision Tree\")\n",
    "print(f'Accuracy: {accuracy}')\n",
    "print(f'Precision: {precision}')\n",
    "print(f'Recall: {recall}')\n",
    "print(f'F1-Score: {f1}')\n",
    "print(accuracy_score(Y_test, Y_pred,normalize=False))\n",
    "print(\"Confusion matrix\")\n",
    "conf_matrix=confusion_matrix(Y_test,Y_pred)\n",
    "print(conf_matrix)"
   ]
  },
  {
   "cell_type": "markdown",
   "id": "1b6fe122",
   "metadata": {
    "papermill": {
     "duration": 0.018698,
     "end_time": "2023-09-08T20:19:49.083102",
     "exception": false,
     "start_time": "2023-09-08T20:19:49.064404",
     "status": "completed"
    },
    "tags": []
   },
   "source": [
    "# Gaussian Naive Bayes classifier"
   ]
  },
  {
   "cell_type": "code",
   "execution_count": 29,
   "id": "cba511bb",
   "metadata": {
    "execution": {
     "iopub.execute_input": "2023-09-08T20:19:49.121669Z",
     "iopub.status.busy": "2023-09-08T20:19:49.120750Z",
     "iopub.status.idle": "2023-09-08T20:19:49.214077Z",
     "shell.execute_reply": "2023-09-08T20:19:49.212445Z"
    },
    "papermill": {
     "duration": 0.115568,
     "end_time": "2023-09-08T20:19:49.216439",
     "exception": false,
     "start_time": "2023-09-08T20:19:49.100871",
     "status": "completed"
    },
    "tags": []
   },
   "outputs": [
    {
     "name": "stdout",
     "output_type": "stream",
     "text": [
      "Gaussian NB\n",
      "Accuracy: 0.991869918699187\n",
      "Precision: 0.8794765795368534\n",
      "Recall: 0.8733242259602846\n",
      "F1-Score: 0.8628509936790025\n",
      "854\n",
      "Confusion matrix\n",
      "[[15  0  0 ...  0  0  0]\n",
      " [ 0 30  0 ...  0  0  0]\n",
      " [ 0  0 24 ...  0  0  0]\n",
      " ...\n",
      " [ 0  5  0 ... 21  0  0]\n",
      " [ 0  0  0 ...  0 22  0]\n",
      " [ 0  0  0 ...  0  0 33]]\n"
     ]
    }
   ],
   "source": [
    "from sklearn.naive_bayes import GaussianNB\n",
    "\n",
    "# Split the data into training and testing sets\n",
    "X_train, X_test, Y_train, Y_test = train_test_split(X, Y, test_size=0.2, random_state=42)\n",
    "\n",
    "# Create a Decision Tree classifier\n",
    "NB_classifier = GaussianNB()\n",
    "\n",
    "# Fit the model on the training data\n",
    "NB_classifier.fit(X_train, Y_train)\n",
    "\n",
    "# Predict disease labels on the testing data\n",
    "Y_pred = NB_classifier.predict(X_test)\n",
    "\n",
    "precision = precision_score(Y_test, Y_pred, average='macro')\n",
    "recall = recall_score(Y_test, Y_pred,average='macro')\n",
    "f1 = f1_score(Y_test, Y_pred, average='macro')\n",
    "\n",
    "print(\"Gaussian NB\")\n",
    "print(f'Accuracy: {accuracy}')\n",
    "print(f'Precision: {precision}')\n",
    "print(f'Recall: {recall}')\n",
    "print(f'F1-Score: {f1}')\n",
    "print(accuracy_score(Y_test, Y_pred,normalize=False))\n",
    "print(\"Confusion matrix\")\n",
    "conf_matrix=confusion_matrix(Y_test,Y_pred)\n",
    "print(conf_matrix)"
   ]
  },
  {
   "cell_type": "markdown",
   "id": "57cb910a",
   "metadata": {
    "papermill": {
     "duration": 0.017379,
     "end_time": "2023-09-08T20:19:49.251536",
     "exception": false,
     "start_time": "2023-09-08T20:19:49.234157",
     "status": "completed"
    },
    "tags": []
   },
   "source": [
    "# K-Nearest Neighbors Classifier"
   ]
  },
  {
   "cell_type": "code",
   "execution_count": 30,
   "id": "751a1242",
   "metadata": {
    "execution": {
     "iopub.execute_input": "2023-09-08T20:19:49.289014Z",
     "iopub.status.busy": "2023-09-08T20:19:49.288618Z",
     "iopub.status.idle": "2023-09-08T20:19:49.534348Z",
     "shell.execute_reply": "2023-09-08T20:19:49.533088Z"
    },
    "papermill": {
     "duration": 0.267121,
     "end_time": "2023-09-08T20:19:49.536809",
     "exception": false,
     "start_time": "2023-09-08T20:19:49.269688",
     "status": "completed"
    },
    "tags": []
   },
   "outputs": [
    {
     "name": "stdout",
     "output_type": "stream",
     "text": [
      "KNN\n",
      "Accuracy: 0.991869918699187\n",
      "Precision: 0.9933217189314751\n",
      "Recall: 0.9909350523711186\n",
      "F1-Score: 0.9915720052790706\n",
      "976\n",
      "Confusion matrix\n",
      "[[18  0  0 ...  0  0  0]\n",
      " [ 0 30  0 ...  0  0  0]\n",
      " [ 0  0 24 ...  0  0  0]\n",
      " ...\n",
      " [ 0  0  0 ... 26  0  0]\n",
      " [ 0  0  0 ...  0 22  0]\n",
      " [ 0  0  0 ...  0  0 34]]\n"
     ]
    }
   ],
   "source": [
    "from sklearn.neighbors import KNeighborsClassifier\n",
    "\n",
    "# Split the data into training and testing sets with a random state\n",
    "X_train, X_test, Y_train, Y_test = train_test_split(X, Y, test_size=0.2, random_state=42)\n",
    "   \n",
    "# Create a k-NN classifier and specify the number of neighbors e.g. 3  \n",
    "k=3\n",
    "knn_classifier = KNeighborsClassifier(n_neighbors=k)\n",
    "\n",
    "# Fit the model on the training data\n",
    "knn_classifier.fit(X_train, Y_train)\n",
    "\n",
    "# Predict the labels for the test data\n",
    "Y_pred = knn_classifier.predict(X_test)\n",
    "\n",
    "precision = precision_score(Y_test, Y_pred, average='macro')\n",
    "recall = recall_score(Y_test, Y_pred,average='macro')\n",
    "f1 = f1_score(Y_test, Y_pred, average='macro')\n",
    "\n",
    "print(\"KNN\")\n",
    "print(f'Accuracy: {accuracy}')\n",
    "print(f'Precision: {precision}')\n",
    "print(f'Recall: {recall}')\n",
    "print(f'F1-Score: {f1}')\n",
    "print(accuracy_score(Y_test, Y_pred,normalize=False))\n",
    "print(\"Confusion matrix\")\n",
    "conf_matrix=confusion_matrix(Y_test,Y_pred)\n",
    "print(conf_matrix)"
   ]
  },
  {
   "cell_type": "markdown",
   "id": "70bd2af3",
   "metadata": {
    "papermill": {
     "duration": 0.018117,
     "end_time": "2023-09-08T20:19:49.572862",
     "exception": false,
     "start_time": "2023-09-08T20:19:49.554745",
     "status": "completed"
    },
    "tags": []
   },
   "source": [
    "# K-Fold Cross Validation"
   ]
  },
  {
   "cell_type": "code",
   "execution_count": 31,
   "id": "d5e1897e",
   "metadata": {
    "execution": {
     "iopub.execute_input": "2023-09-08T20:19:49.610531Z",
     "iopub.status.busy": "2023-09-08T20:19:49.610115Z",
     "iopub.status.idle": "2023-09-08T20:19:52.099397Z",
     "shell.execute_reply": "2023-09-08T20:19:52.098154Z"
    },
    "papermill": {
     "duration": 2.511397,
     "end_time": "2023-09-08T20:19:52.102056",
     "exception": false,
     "start_time": "2023-09-08T20:19:49.590659",
     "status": "completed"
    },
    "tags": []
   },
   "outputs": [
    {
     "name": "stdout",
     "output_type": "stream",
     "text": [
      "Cross-Validation Scores: [0.96544715 0.95934959 0.98373984 0.95121951 0.97764228 0.95528455\n",
      " 0.96138211 0.97764228 0.95325203 0.96544715]\n",
      "Mean Accuracy: 0.9650406504065041\n",
      "Standard Deviation: 0.010670247762932275\n",
      "Accuracy: 0.991869918699187\n",
      "Precision: 0.9933217189314751\n",
      "Recall: 0.9909350523711186\n",
      "F1-Score: 0.9915720052790706\n"
     ]
    }
   ],
   "source": [
    "from sklearn.model_selection import cross_val_score, KFold\n",
    "from sklearn.svm import SVC  \n",
    "\n",
    "svm_classifier = SVC()\n",
    "\n",
    "# Specify the number of folds for cross-validation\n",
    "num_folds = 10  # You can choose any number of folds you prefer\n",
    "\n",
    "# Create a K-Fold cross-validation object\n",
    "kf = KFold(n_splits=num_folds, shuffle=True, random_state=42)\n",
    "\n",
    "# Perform cross-validation and compute scores using accuracy, precision, recall\n",
    "scores = cross_val_score(svm_classifier, X, Y, cv=kf, scoring='accuracy')\n",
    "\n",
    "# Print the cross-validation scores\n",
    "print(f'Cross-Validation Scores: {scores}')\n",
    "\n",
    "# Calculate and print the mean and standard deviation of the scores  \n",
    "# High mean accuracy and a relatively low standard deviation in cross-validation scores are good indicators of consistent and reliable model performance across different subsets of the data.\n",
    "mean_score = scores.mean()\n",
    "std_deviation = scores.std()\n",
    "precision = precision_score(Y_test, Y_pred, average='macro')\n",
    "recall = recall_score(Y_test, Y_pred,average='macro')\n",
    "f1 = f1_score(Y_test, Y_pred, average='macro')\n",
    "print(f'Mean Accuracy: {mean_score}')\n",
    "print(f'Standard Deviation: {std_deviation}')\n",
    "print(f'Accuracy: {accuracy}')\n",
    "print(f'Precision: {precision}')\n",
    "print(f'Recall: {recall}')\n",
    "print(f'F1-Score: {f1}')\n"
   ]
  },
  {
   "cell_type": "markdown",
   "id": "927d5885",
   "metadata": {
    "papermill": {
     "duration": 0.017578,
     "end_time": "2023-09-08T20:19:52.138393",
     "exception": false,
     "start_time": "2023-09-08T20:19:52.120815",
     "status": "completed"
    },
    "tags": []
   },
   "source": [
    "# SVM"
   ]
  },
  {
   "cell_type": "code",
   "execution_count": 32,
   "id": "6ef1583a",
   "metadata": {
    "execution": {
     "iopub.execute_input": "2023-09-08T20:19:52.176515Z",
     "iopub.status.busy": "2023-09-08T20:19:52.175816Z",
     "iopub.status.idle": "2023-09-08T20:19:52.366234Z",
     "shell.execute_reply": "2023-09-08T20:19:52.365240Z"
    },
    "papermill": {
     "duration": 0.212256,
     "end_time": "2023-09-08T20:19:52.368562",
     "exception": false,
     "start_time": "2023-09-08T20:19:52.156306",
     "status": "completed"
    },
    "tags": []
   },
   "outputs": [
    {
     "name": "stdout",
     "output_type": "stream",
     "text": [
      "SVM\n",
      "Accuracy: 0.9705284552845529\n",
      "Precision: 0.9735474552547722\n",
      "Recall: 0.9712520287698774\n",
      "F1-Score: 0.971132617679643\n",
      "955\n",
      "Confusion matrix\n",
      "[[30  0  0 ...  0  0  0]\n",
      " [ 0 23  0 ...  0  0  0]\n",
      " [ 0  0 34 ...  0  0  0]\n",
      " ...\n",
      " [ 0  0  0 ... 27  0  0]\n",
      " [ 0  0  0 ...  0 25  0]\n",
      " [ 0  0  0 ...  0  0 26]]\n"
     ]
    }
   ],
   "source": [
    "from sklearn.svm import SVC\n",
    "\n",
    "# Split the data into training and testing sets\n",
    "X_train, X_test, Y_train, Y_test = train_test_split(X, Y, test_size=0.2, random_state=100)\n",
    "\n",
    "# Create an instance of the SVM classifier\n",
    "svm_classifier = SVC(kernel='linear')\n",
    "\n",
    "# Train the model using the training data\n",
    "svm_classifier.fit(X_train, Y_train)\n",
    "\n",
    "# Predict disease labels on the testing data\n",
    "Y_pred = svm_classifier.predict(X_test)\n",
    "\n",
    "# Calculate accuracy\n",
    "accuracy = accuracy_score(Y_test, Y_pred)\n",
    "\n",
    "precision = precision_score(Y_test, Y_pred, average='macro')\n",
    "recall = recall_score(Y_test, Y_pred,average='macro')\n",
    "f1 = f1_score(Y_test, Y_pred, average='macro')\n",
    "\n",
    "print(\"SVM\")\n",
    "print(f'Accuracy: {accuracy}')\n",
    "print(f'Precision: {precision}')\n",
    "print(f'Recall: {recall}')\n",
    "print(f'F1-Score: {f1}')\n",
    "print(accuracy_score(Y_test, Y_pred,normalize=False))\n",
    "print(\"Confusion matrix\")\n",
    "conf_matrix=confusion_matrix(Y_test,Y_pred)\n",
    "print(conf_matrix)"
   ]
  },
  {
   "cell_type": "code",
   "execution_count": null,
   "id": "4682b3d8",
   "metadata": {
    "papermill": {
     "duration": 0.017569,
     "end_time": "2023-09-08T20:19:52.404138",
     "exception": false,
     "start_time": "2023-09-08T20:19:52.386569",
     "status": "completed"
    },
    "tags": []
   },
   "outputs": [],
   "source": []
  }
 ],
 "kernelspec": {
  "display_name": "Python 3",
  "language": "python",
  "name": "python3"
 },
 "language_info": {
  "codemirror_mode": {
   "name": "ipython",
   "version": 3
  },
  "file_extension": ".py",
  "mimetype": "text/x-python",
  "name": "python",
  "nbconvert_exporter": "python",
  "pygments_lexer": "ipython3",
  "version": "3.6.4"
 },
 "metadata": {
  "kernelspec": {
   "display_name": "Python 3",
   "language": "python",
   "name": "python3"
  },
  "language_info": {
   "codemirror_mode": {
    "name": "ipython",
    "version": 3
   },
   "file_extension": ".py",
   "mimetype": "text/x-python",
   "name": "python",
   "nbconvert_exporter": "python",
   "pygments_lexer": "ipython3",
   "version": "3.10.12"
  },
  "papermill": {
   "default_parameters": {},
   "duration": 23.487799,
   "end_time": "2023-09-08T20:19:53.044737",
   "environment_variables": {},
   "exception": null,
   "input_path": "__notebook__.ipynb",
   "output_path": "__notebook__.ipynb",
   "parameters": {},
   "start_time": "2023-09-08T20:19:29.556938",
   "version": "2.4.0"
  }
 },
 "nbformat": 4,
 "nbformat_minor": 5
}
